{
 "cells": [
  {
   "cell_type": "markdown",
   "id": "6077e7da",
   "metadata": {},
   "source": [
    "### Libraries"
   ]
  },
  {
   "cell_type": "code",
   "execution_count": 1,
   "id": "981bfbe2",
   "metadata": {},
   "outputs": [],
   "source": [
    "import numpy as np \n",
    "import tensorflow as tf\n",
    "from tensorflow import keras\n",
    "from tensorflow.keras import layers\n",
    "from keras.preprocessing.image import ImageDataGenerator,load_img\n",
    "import sklearn.metrics\n",
    "import io\n",
    "import itertools\n",
    "import matplotlib.pyplot as plt"
   ]
  },
  {
   "cell_type": "markdown",
   "id": "e107a3ac",
   "metadata": {},
   "source": [
    "### Loading the dataset "
   ]
  },
  {
   "cell_type": "code",
   "execution_count": 2,
   "id": "d4bddfe2",
   "metadata": {
    "scrolled": true
   },
   "outputs": [],
   "source": [
    "img_height = 28\n",
    "img_width = 28\n",
    "batch_size = 10\n"
   ]
  },
  {
   "cell_type": "code",
   "execution_count": 3,
   "id": "52c89ee6",
   "metadata": {},
   "outputs": [
    {
     "name": "stdout",
     "output_type": "stream",
     "text": [
      "Found 52500 files belonging to 5 classes.\n",
      "Using 47250 files for training.\n",
      "Found 15000 files belonging to 5 classes.\n",
      "Using 1500 files for validation.\n"
     ]
    }
   ],
   "source": [
    "ds_train = tf.keras.preprocessing.image_dataset_from_directory(\n",
    "    \"C:/Rice_splitted/train\",\n",
    "    labels = 'inferred',\n",
    "    label_mode = \"int\",\n",
    "    color_mode = 'grayscale',\n",
    "    batch_size = batch_size,\n",
    "    image_size = (img_height, img_width),\n",
    "    shuffle = True,\n",
    "    seed = 42,\n",
    "    validation_split = 0.1,\n",
    "    subset = \"training\"\n",
    "\n",
    "\n",
    "\n",
    "\n",
    ")\n",
    "\n",
    "\n",
    "ds_valid = tf.keras.preprocessing.image_dataset_from_directory(\n",
    "    \"C:/Rice_splitted/val\",\n",
    "    labels = 'inferred',\n",
    "    label_mode = \"int\",\n",
    "    color_mode = 'grayscale',\n",
    "    batch_size = batch_size,\n",
    "    image_size = (img_height, img_width),\n",
    "    shuffle = True,\n",
    "    seed = 42,\n",
    "    validation_split = 0.1,\n",
    "    subset = \"validation\"\n",
    "    \n",
    "\n",
    "\n",
    "\n",
    ")\n",
    "\n"
   ]
  },
  {
   "cell_type": "code",
   "execution_count": 4,
   "id": "1690bdd0",
   "metadata": {},
   "outputs": [],
   "source": [
    "model = tf.keras.Sequential([\n",
    "    layers.Input((28,28,1)),\n",
    "    layers.Conv2D(50,5, activation='relu'),\n",
    "    layers.Conv2D(32,3, activation='relu'),\n",
    "    layers.MaxPooling2D(pool_size=(2,2)),\n",
    "    layers.Flatten(),\n",
    "    layers.Dense(10)\n",
    "    \n",
    "    \n",
    "])"
   ]
  },
  {
   "cell_type": "code",
   "execution_count": 5,
   "id": "574204fa",
   "metadata": {},
   "outputs": [
    {
     "name": "stdout",
     "output_type": "stream",
     "text": [
      "Model: \"sequential\"\n",
      "___________________________________________________________________________\n",
      " Layer (type)                    Output Shape                  Param #     \n",
      "===========================================================================\n",
      " conv2d (Conv2D)                 (None, 24, 24, 50)            1300        \n",
      "                                                                           \n",
      " conv2d_1 (Conv2D)               (None, 22, 22, 32)            14432       \n",
      "                                                                           \n",
      " max_pooling2d (MaxPooling2D)    (None, 11, 11, 32)            0           \n",
      "                                                                           \n",
      " flatten (Flatten)               (None, 3872)                  0           \n",
      "                                                                           \n",
      " dense (Dense)                   (None, 10)                    38730       \n",
      "                                                                           \n",
      "===========================================================================\n",
      "Total params: 54,462\n",
      "Trainable params: 54,462\n",
      "Non-trainable params: 0\n",
      "___________________________________________________________________________\n"
     ]
    }
   ],
   "source": [
    "model.summary(line_length = 75)"
   ]
  },
  {
   "cell_type": "code",
   "execution_count": 6,
   "id": "19ce053b",
   "metadata": {},
   "outputs": [],
   "source": [
    "loss_fn = tf.keras.losses.SparseCategoricalCrossentropy(from_logits=True)"
   ]
  },
  {
   "cell_type": "code",
   "execution_count": 7,
   "id": "d8e829d6",
   "metadata": {},
   "outputs": [],
   "source": [
    "model.compile(optimizer='adam', loss=loss_fn, metrics=['accuracy'])"
   ]
  },
  {
   "cell_type": "code",
   "execution_count": 8,
   "id": "be44fa4f",
   "metadata": {},
   "outputs": [],
   "source": [
    "early_stopping = tf.keras.callbacks.EarlyStopping(\n",
    "    monitor = 'val_loss',\n",
    "    mode = 'auto',    \n",
    "    min_delta = 0,\n",
    "    patience = 2,\n",
    "    verbose = 0, \n",
    "    restore_best_weights = True\n",
    ")\n",
    "NUM_EPOCHS = 20"
   ]
  },
  {
   "cell_type": "code",
   "execution_count": 9,
   "id": "54916720",
   "metadata": {},
   "outputs": [
    {
     "name": "stdout",
     "output_type": "stream",
     "text": [
      "Epoch 1/20\n",
      "4725/4725 - 111s - loss: 0.2413 - accuracy: 0.9303 - val_loss: 0.1163 - val_accuracy: 0.9573 - 111s/epoch - 23ms/step\n",
      "Epoch 2/20\n",
      "4725/4725 - 93s - loss: 0.1374 - accuracy: 0.9531 - val_loss: 0.1062 - val_accuracy: 0.9647 - 93s/epoch - 20ms/step\n",
      "Epoch 3/20\n",
      "4725/4725 - 95s - loss: 0.1243 - accuracy: 0.9575 - val_loss: 0.1051 - val_accuracy: 0.9607 - 95s/epoch - 20ms/step\n",
      "Epoch 4/20\n",
      "4725/4725 - 92s - loss: 0.1158 - accuracy: 0.9610 - val_loss: 0.1244 - val_accuracy: 0.9567 - 92s/epoch - 19ms/step\n",
      "Epoch 5/20\n",
      "4725/4725 - 93s - loss: 0.1083 - accuracy: 0.9634 - val_loss: 0.0929 - val_accuracy: 0.9700 - 93s/epoch - 20ms/step\n",
      "Epoch 6/20\n",
      "4725/4725 - 95s - loss: 0.1039 - accuracy: 0.9656 - val_loss: 0.1116 - val_accuracy: 0.9660 - 95s/epoch - 20ms/step\n",
      "Epoch 7/20\n",
      "4725/4725 - 92s - loss: 0.0994 - accuracy: 0.9669 - val_loss: 0.1060 - val_accuracy: 0.9667 - 92s/epoch - 19ms/step\n"
     ]
    },
    {
     "data": {
      "text/plain": [
       "<keras.callbacks.History at 0x1dce8e9dfd0>"
      ]
     },
     "execution_count": 9,
     "metadata": {},
     "output_type": "execute_result"
    }
   ],
   "source": [
    "model.fit(\n",
    "    ds_train, \n",
    "    epochs = NUM_EPOCHS, \n",
    "    callbacks = [early_stopping], \n",
    "    validation_data = ds_valid,\n",
    "    verbose = 2\n",
    ")"
   ]
  },
  {
   "cell_type": "code",
   "execution_count": 12,
   "id": "dfefe298",
   "metadata": {},
   "outputs": [
    {
     "name": "stdout",
     "output_type": "stream",
     "text": [
      "150/150 [==============================] - 1s 9ms/step - loss: 0.0941 - accuracy: 0.9733\n"
     ]
    }
   ],
   "source": [
    "# Testing our model\n",
    "test_loss, test_accuracy = model.evaluate(ds_valid)"
   ]
  },
  {
   "cell_type": "code",
   "execution_count": 13,
   "id": "21c8d9f1",
   "metadata": {},
   "outputs": [
    {
     "name": "stdout",
     "output_type": "stream",
     "text": [
      "Test loss: 0.0941. Test accuracy: 97.33%\n"
     ]
    }
   ],
   "source": [
    "print('Test loss: {0:.4f}. Test accuracy: {1:.2f}%'.format(test_loss, test_accuracy*100.))"
   ]
  },
  {
   "cell_type": "code",
   "execution_count": 14,
   "id": "df5bd948",
   "metadata": {},
   "outputs": [],
   "source": [
    "import matplotlib.pyplot as plt\n",
    "import numpy as np"
   ]
  },
  {
   "cell_type": "code",
   "execution_count": 24,
   "id": "6458748f",
   "metadata": {},
   "outputs": [],
   "source": [
    "# Split the test_data into 2 arrays, containing the images and the corresponding labels\n",
    "for images, labels in ds_valid.take(1):\n",
    "    images_test = images.numpy()\n",
    "    labels_test = labels.numpy()\n",
    "\n",
    "# Reshape the images into 28x28 form, suitable for matplotlib (original dimensions: 28x28x1)\n"
   ]
  },
  {
   "cell_type": "code",
   "execution_count": 37,
   "id": "ad7bb6c6",
   "metadata": {},
   "outputs": [
    {
     "data": {
      "image/png": "[encoded data removed]",
      "text/plain": [
       "<Figure size 144x144 with 1 Axes>"
      ]
     },
     "metadata": {
      "needs_background": "light"
     },
     "output_type": "display_data"
    },
    {
     "name": "stdout",
     "output_type": "stream",
     "text": [
      "Label: 3\n"
     ]
    }
   ],
   "source": [
    " i = 1\n",
    "\n",
    "\n",
    "# Plot the image\n",
    "plt.figure(figsize=(2, 2))\n",
    "plt.axis('off')\n",
    "plt.imshow(images_test[i-1], cmap=\"gray\", aspect='auto')\n",
    "plt.show()\n",
    "\n",
    "# Print the correct label for the image\n",
    "print(\"Label: {}\".format(labels_test[i-1]))"
   ]
  },
  {
   "cell_type": "code",
   "execution_count": 38,
   "id": "e0db4e98",
   "metadata": {},
   "outputs": [
    {
     "data": {
      "text/plain": [
       "<BarContainer object of 10 artists>"
      ]
     },
     "execution_count": 38,
     "metadata": {},
     "output_type": "execute_result"
    },
    {
     "data": {
      "image/png": "[encoded data removed]",
      "text/plain": [
       "<Figure size 864x360 with 1 Axes>"
      ]
     },
     "metadata": {
      "needs_background": "light"
     },
     "output_type": "display_data"
    }
   ],
   "source": [
    "# Obtain the model's predictions (logits)\n",
    "predictions = model.predict(images_test[i-1:i])\n",
    "\n",
    "# Convert those predictions into probabilities (recall that we incorporated the softmaxt activation into the loss function)\n",
    "probabilities = tf.nn.softmax(predictions).numpy()\n",
    "# Convert the probabilities into percentages\n",
    "probabilities = probabilities*100\n",
    "\n",
    "\n",
    "# Create a bar chart to plot the probabilities for each class\n",
    "plt.figure(figsize=(12,5))\n",
    "plt.bar(x=[1,2,3,4,5,6,7,8,9,10], height=probabilities[0], tick_label=[\"0\",\"1\",\"2\",\"3\",\"4\",\"5\",\"6\",\"7\",\"8\",\"9\"])"
   ]
  },
  {
   "cell_type": "code",
   "execution_count": null,
   "id": "db680baa",
   "metadata": {},
   "outputs": [],
   "source": []
  },
  {
   "cell_type": "code",
   "execution_count": null,
   "id": "d3b0f380",
   "metadata": {},
   "outputs": [],
   "source": []
  }
 ],
 "metadata": {
  "kernelspec": {
   "display_name": "Python 3",
   "language": "python",
   "name": "python3"
  },
  "language_info": {
   "codemirror_mode": {
    "name": "ipython",
    "version": 3
   },
   "file_extension": ".py",
   "mimetype": "text/x-python",
   "name": "python",
   "nbconvert_exporter": "python",
   "pygments_lexer": "ipython3",
   "version": "3.8.8"
  }
 },
 "nbformat": 4,
 "nbformat_minor": 5
}
